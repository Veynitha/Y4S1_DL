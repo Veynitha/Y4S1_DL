{
  "nbformat": 4,
  "nbformat_minor": 0,
  "metadata": {
    "colab": {
      "provenance": [],
      "include_colab_link": true
    },
    "kernelspec": {
      "name": "python3",
      "display_name": "Python 3"
    },
    "language_info": {
      "name": "python"
    }
  },
  "cells": [
    {
      "cell_type": "markdown",
      "metadata": {
        "id": "view-in-github",
        "colab_type": "text"
      },
      "source": [
        "<a href=\"https://colab.research.google.com/github/Veynitha/Y4S1_DL/blob/main/IT21298394.ipynb\" target=\"_parent\"><img src=\"https://colab.research.google.com/assets/colab-badge.svg\" alt=\"Open In Colab\"/></a>"
      ]
    },
    {
      "cell_type": "code",
      "execution_count": 52,
      "metadata": {
        "id": "bY5Fkjy0nIGa"
      },
      "outputs": [],
      "source": [
        "# Import necessary libraries\n",
        "import pandas as pd\n",
        "import numpy as np\n",
        "import matplotlib.pyplot as plt\n",
        "from sklearn.model_selection import train_test_split\n",
        "from sklearn.preprocessing import StandardScaler, LabelEncoder\n",
        "from sklearn.metrics import classification_report, confusion_matrix\n",
        "from tensorflow.keras.models import Sequential\n",
        "from tensorflow.keras.layers import Dense, Dropout\n"
      ]
    },
    {
      "cell_type": "code",
      "source": [
        "# Install Kaggle and download dataset\n",
        "!pip install -q kaggle\n",
        "!mkdir -p ~/.kaggle\n",
        "!cp kaggle.json ~/.kaggle/\n",
        "!chmod 600 ~/.kaggle/kaggle.json\n",
        "\n",
        "# Download Automobile Insurance dataset from Kaggle\n",
        "!kaggle datasets download -d aashishjhamtani/automobile-insurance\n",
        "\n",
        "# Unzip the downloaded dataset\n",
        "!unzip automobile-insurance.zip\n"
      ],
      "metadata": {
        "colab": {
          "base_uri": "https://localhost:8080/"
        },
        "id": "59OeoTKLw6EZ",
        "outputId": "15235dd6-5470-4589-8244-f91b9479b369"
      },
      "execution_count": 53,
      "outputs": [
        {
          "output_type": "stream",
          "name": "stdout",
          "text": [
            "cp: cannot stat 'kaggle.json': No such file or directory\n",
            "chmod: cannot access '/root/.kaggle/kaggle.json': No such file or directory\n",
            "Dataset URL: https://www.kaggle.com/datasets/aashishjhamtani/automobile-insurance\n",
            "License(s): unknown\n",
            "automobile-insurance.zip: Skipping, found more recently modified local copy (use --force to force download)\n",
            "Archive:  automobile-insurance.zip\n",
            "replace insurance_claims.csv? [y]es, [n]o, [A]ll, [N]one, [r]ename: A\n",
            "  inflating: insurance_claims.csv    \n",
            "  inflating: insurance_data_set.csv  \n"
          ]
        }
      ]
    },
    {
      "cell_type": "code",
      "source": [
        "# Load the dataset\n",
        "df = pd.read_csv('/content/insurance_claims.csv')\n",
        "\n",
        "# Check the first few rows of the dataset\n",
        "print(df.head())\n",
        "\n",
        "# Get summary statistics\n",
        "print(df.describe())\n",
        "\n",
        "# Check for missing values\n",
        "print(df.isnull().sum())\n"
      ],
      "metadata": {
        "colab": {
          "base_uri": "https://localhost:8080/"
        },
        "id": "j_d1LJnXxZEW",
        "outputId": "295009c8-3dae-420b-e621-c84971beb279"
      },
      "execution_count": 54,
      "outputs": [
        {
          "output_type": "stream",
          "name": "stdout",
          "text": [
            "   months_as_customer  age  policy_number policy_bind_date policy_state  \\\n",
            "0                 328   48         521585       2014-10-17           OH   \n",
            "1                 228   42         342868       2006-06-27           IN   \n",
            "2                 134   29         687698       2000-09-06           OH   \n",
            "3                 256   41         227811       1990-05-25           IL   \n",
            "4                 228   44         367455       2014-06-06           IL   \n",
            "\n",
            "  policy_csl  policy_deductable  policy_annual_premium  umbrella_limit  \\\n",
            "0    250/500               1000                1406.91               0   \n",
            "1    250/500               2000                1197.22         5000000   \n",
            "2    100/300               2000                1413.14         5000000   \n",
            "3    250/500               2000                1415.74         6000000   \n",
            "4   500/1000               1000                1583.91         6000000   \n",
            "\n",
            "   insured_zip  ... police_report_available total_claim_amount injury_claim  \\\n",
            "0       466132  ...                     YES              71610         6510   \n",
            "1       468176  ...                       ?               5070          780   \n",
            "2       430632  ...                      NO              34650         7700   \n",
            "3       608117  ...                      NO              63400         6340   \n",
            "4       610706  ...                      NO               6500         1300   \n",
            "\n",
            "  property_claim vehicle_claim  auto_make  auto_model auto_year  \\\n",
            "0          13020         52080       Saab         92x      2004   \n",
            "1            780          3510   Mercedes        E400      2007   \n",
            "2           3850         23100      Dodge         RAM      2007   \n",
            "3           6340         50720  Chevrolet       Tahoe      2014   \n",
            "4            650          4550     Accura         RSX      2009   \n",
            "\n",
            "  fraud_reported _c39  \n",
            "0              Y  NaN  \n",
            "1              Y  NaN  \n",
            "2              N  NaN  \n",
            "3              Y  NaN  \n",
            "4              N  NaN  \n",
            "\n",
            "[5 rows x 40 columns]\n",
            "       months_as_customer          age  policy_number  policy_deductable  \\\n",
            "count         1000.000000  1000.000000    1000.000000        1000.000000   \n",
            "mean           203.954000    38.948000  546238.648000        1136.000000   \n",
            "std            115.113174     9.140287  257063.005276         611.864673   \n",
            "min              0.000000    19.000000  100804.000000         500.000000   \n",
            "25%            115.750000    32.000000  335980.250000         500.000000   \n",
            "50%            199.500000    38.000000  533135.000000        1000.000000   \n",
            "75%            276.250000    44.000000  759099.750000        2000.000000   \n",
            "max            479.000000    64.000000  999435.000000        2000.000000   \n",
            "\n",
            "       policy_annual_premium  umbrella_limit    insured_zip  capital-gains  \\\n",
            "count            1000.000000    1.000000e+03    1000.000000    1000.000000   \n",
            "mean             1256.406150    1.101000e+06  501214.488000   25126.100000   \n",
            "std               244.167395    2.297407e+06   71701.610941   27872.187708   \n",
            "min               433.330000   -1.000000e+06  430104.000000       0.000000   \n",
            "25%              1089.607500    0.000000e+00  448404.500000       0.000000   \n",
            "50%              1257.200000    0.000000e+00  466445.500000       0.000000   \n",
            "75%              1415.695000    0.000000e+00  603251.000000   51025.000000   \n",
            "max              2047.590000    1.000000e+07  620962.000000  100500.000000   \n",
            "\n",
            "        capital-loss  incident_hour_of_the_day  number_of_vehicles_involved  \\\n",
            "count    1000.000000               1000.000000                   1000.00000   \n",
            "mean   -26793.700000                 11.644000                      1.83900   \n",
            "std     28104.096686                  6.951373                      1.01888   \n",
            "min   -111100.000000                  0.000000                      1.00000   \n",
            "25%    -51500.000000                  6.000000                      1.00000   \n",
            "50%    -23250.000000                 12.000000                      1.00000   \n",
            "75%         0.000000                 17.000000                      3.00000   \n",
            "max         0.000000                 23.000000                      4.00000   \n",
            "\n",
            "       bodily_injuries    witnesses  total_claim_amount  injury_claim  \\\n",
            "count      1000.000000  1000.000000          1000.00000   1000.000000   \n",
            "mean          0.992000     1.487000         52761.94000   7433.420000   \n",
            "std           0.820127     1.111335         26401.53319   4880.951853   \n",
            "min           0.000000     0.000000           100.00000      0.000000   \n",
            "25%           0.000000     1.000000         41812.50000   4295.000000   \n",
            "50%           1.000000     1.000000         58055.00000   6775.000000   \n",
            "75%           2.000000     2.000000         70592.50000  11305.000000   \n",
            "max           2.000000     3.000000        114920.00000  21450.000000   \n",
            "\n",
            "       property_claim  vehicle_claim    auto_year  _c39  \n",
            "count     1000.000000    1000.000000  1000.000000   0.0  \n",
            "mean      7399.570000   37928.950000  2005.103000   NaN  \n",
            "std       4824.726179   18886.252893     6.015861   NaN  \n",
            "min          0.000000      70.000000  1995.000000   NaN  \n",
            "25%       4445.000000   30292.500000  2000.000000   NaN  \n",
            "50%       6750.000000   42100.000000  2005.000000   NaN  \n",
            "75%      10885.000000   50822.500000  2010.000000   NaN  \n",
            "max      23670.000000   79560.000000  2015.000000   NaN  \n",
            "months_as_customer                0\n",
            "age                               0\n",
            "policy_number                     0\n",
            "policy_bind_date                  0\n",
            "policy_state                      0\n",
            "policy_csl                        0\n",
            "policy_deductable                 0\n",
            "policy_annual_premium             0\n",
            "umbrella_limit                    0\n",
            "insured_zip                       0\n",
            "insured_sex                       0\n",
            "insured_education_level           0\n",
            "insured_occupation                0\n",
            "insured_hobbies                   0\n",
            "insured_relationship              0\n",
            "capital-gains                     0\n",
            "capital-loss                      0\n",
            "incident_date                     0\n",
            "incident_type                     0\n",
            "collision_type                    0\n",
            "incident_severity                 0\n",
            "authorities_contacted            91\n",
            "incident_state                    0\n",
            "incident_city                     0\n",
            "incident_location                 0\n",
            "incident_hour_of_the_day          0\n",
            "number_of_vehicles_involved       0\n",
            "property_damage                   0\n",
            "bodily_injuries                   0\n",
            "witnesses                         0\n",
            "police_report_available           0\n",
            "total_claim_amount                0\n",
            "injury_claim                      0\n",
            "property_claim                    0\n",
            "vehicle_claim                     0\n",
            "auto_make                         0\n",
            "auto_model                        0\n",
            "auto_year                         0\n",
            "fraud_reported                    0\n",
            "_c39                           1000\n",
            "dtype: int64\n"
          ]
        }
      ]
    },
    {
      "cell_type": "code",
      "source": [
        "# Drop irrelevant columns\n",
        "df = df.drop(columns=['policy_number', 'policy_bind_date', 'insured_zip', '_c39', 'incident_location'])\n",
        "\n",
        "# Check the updated dataset structure\n",
        "print(df.info())\n",
        "\n",
        "# Check the column names of the dataset\n",
        "print(df.columns)\n"
      ],
      "metadata": {
        "colab": {
          "base_uri": "https://localhost:8080/"
        },
        "id": "U9tw3yslt0C2",
        "outputId": "e8edc7da-c4ee-461f-ab8d-9dc962207fa5"
      },
      "execution_count": 55,
      "outputs": [
        {
          "output_type": "stream",
          "name": "stdout",
          "text": [
            "<class 'pandas.core.frame.DataFrame'>\n",
            "RangeIndex: 1000 entries, 0 to 999\n",
            "Data columns (total 35 columns):\n",
            " #   Column                       Non-Null Count  Dtype  \n",
            "---  ------                       --------------  -----  \n",
            " 0   months_as_customer           1000 non-null   int64  \n",
            " 1   age                          1000 non-null   int64  \n",
            " 2   policy_state                 1000 non-null   object \n",
            " 3   policy_csl                   1000 non-null   object \n",
            " 4   policy_deductable            1000 non-null   int64  \n",
            " 5   policy_annual_premium        1000 non-null   float64\n",
            " 6   umbrella_limit               1000 non-null   int64  \n",
            " 7   insured_sex                  1000 non-null   object \n",
            " 8   insured_education_level      1000 non-null   object \n",
            " 9   insured_occupation           1000 non-null   object \n",
            " 10  insured_hobbies              1000 non-null   object \n",
            " 11  insured_relationship         1000 non-null   object \n",
            " 12  capital-gains                1000 non-null   int64  \n",
            " 13  capital-loss                 1000 non-null   int64  \n",
            " 14  incident_date                1000 non-null   object \n",
            " 15  incident_type                1000 non-null   object \n",
            " 16  collision_type               1000 non-null   object \n",
            " 17  incident_severity            1000 non-null   object \n",
            " 18  authorities_contacted        909 non-null    object \n",
            " 19  incident_state               1000 non-null   object \n",
            " 20  incident_city                1000 non-null   object \n",
            " 21  incident_hour_of_the_day     1000 non-null   int64  \n",
            " 22  number_of_vehicles_involved  1000 non-null   int64  \n",
            " 23  property_damage              1000 non-null   object \n",
            " 24  bodily_injuries              1000 non-null   int64  \n",
            " 25  witnesses                    1000 non-null   int64  \n",
            " 26  police_report_available      1000 non-null   object \n",
            " 27  total_claim_amount           1000 non-null   int64  \n",
            " 28  injury_claim                 1000 non-null   int64  \n",
            " 29  property_claim               1000 non-null   int64  \n",
            " 30  vehicle_claim                1000 non-null   int64  \n",
            " 31  auto_make                    1000 non-null   object \n",
            " 32  auto_model                   1000 non-null   object \n",
            " 33  auto_year                    1000 non-null   int64  \n",
            " 34  fraud_reported               1000 non-null   object \n",
            "dtypes: float64(1), int64(15), object(19)\n",
            "memory usage: 273.6+ KB\n",
            "None\n",
            "Index(['months_as_customer', 'age', 'policy_state', 'policy_csl',\n",
            "       'policy_deductable', 'policy_annual_premium', 'umbrella_limit',\n",
            "       'insured_sex', 'insured_education_level', 'insured_occupation',\n",
            "       'insured_hobbies', 'insured_relationship', 'capital-gains',\n",
            "       'capital-loss', 'incident_date', 'incident_type', 'collision_type',\n",
            "       'incident_severity', 'authorities_contacted', 'incident_state',\n",
            "       'incident_city', 'incident_hour_of_the_day',\n",
            "       'number_of_vehicles_involved', 'property_damage', 'bodily_injuries',\n",
            "       'witnesses', 'police_report_available', 'total_claim_amount',\n",
            "       'injury_claim', 'property_claim', 'vehicle_claim', 'auto_make',\n",
            "       'auto_model', 'auto_year', 'fraud_reported'],\n",
            "      dtype='object')\n"
          ]
        }
      ]
    },
    {
      "cell_type": "code",
      "source": [
        "# Import necessary libraries for preprocessing\n",
        "from sklearn.preprocessing import LabelEncoder, StandardScaler\n",
        "import pandas as pd\n",
        "\n",
        "# Create a copy of the dataframe to avoid changes to the original\n",
        "df_copy = df.copy()\n",
        "\n",
        "# Convert 'incident_date' to datetime and extract features from it\n",
        "df_copy['incident_date'] = pd.to_datetime(df_copy['incident_date'])\n",
        "df_copy['incident_year'] = df_copy['incident_date'].dt.year\n",
        "df_copy['incident_month'] = df_copy['incident_date'].dt.month\n",
        "df_copy['incident_day'] = df_copy['incident_date'].dt.day\n",
        "df_copy['incident_day_of_week'] = df_copy['incident_date'].dt.dayofweek\n",
        "df_copy = df_copy.drop(columns=['incident_date'])\n",
        "\n",
        "# Encode categorical features using LabelEncoder\n",
        "labelencoder = LabelEncoder()\n",
        "\n",
        "# List of categorical columns including the one causing the issue\n",
        "categorical_cols = ['policy_state', 'policy_csl', 'insured_sex', 'insured_education_level',\n",
        "                    'insured_occupation', 'insured_hobbies', 'insured_relationship',\n",
        "                    'incident_type', 'collision_type', 'incident_severity',  # Include 'incident_severity'\n",
        "                    'authorities_contacted', 'incident_state', 'incident_city',\n",
        "                    'property_damage', 'police_report_available', 'auto_make', 'auto_model']\n",
        "\n",
        "# Apply LabelEncoder to all categorical columns\n",
        "for col in categorical_cols:\n",
        "    df_copy[col] = labelencoder.fit_transform(df_copy[col].astype(str))  # Convert to string in case of missing values\n",
        "\n",
        "# Scale numerical features using StandardScaler\n",
        "scaler = StandardScaler()\n",
        "\n",
        "# List of numerical columns to scale\n",
        "numerical_cols = ['age', 'policy_deductable', 'policy_annual_premium', 'umbrella_limit',\n",
        "                  'capital-gains', 'capital-loss', 'incident_hour_of_the_day',\n",
        "                  'total_claim_amount', 'injury_claim', 'property_claim', 'vehicle_claim']\n",
        "\n",
        "# Apply scaling to numerical columns\n",
        "df_copy[numerical_cols] = scaler.fit_transform(df_copy[numerical_cols])\n",
        "\n",
        "# Check the updated DataFrame after encoding and scaling\n",
        "print(df_copy.head())\n"
      ],
      "metadata": {
        "colab": {
          "base_uri": "https://localhost:8080/"
        },
        "id": "9ESXBcDY1NP3",
        "outputId": "fec6253a-067b-49cd-a084-818cf4bba0bc"
      },
      "execution_count": 56,
      "outputs": [
        {
          "output_type": "stream",
          "name": "stdout",
          "text": [
            "   months_as_customer       age  policy_state  policy_csl  policy_deductable  \\\n",
            "0                 328  0.990836             2           1          -0.222383   \n",
            "1                 228  0.334073             1           1           1.412784   \n",
            "2                 134 -1.088913             2           0           1.412784   \n",
            "3                 256  0.224613             0           1           1.412784   \n",
            "4                 228  0.552994             0           2          -0.222383   \n",
            "\n",
            "   policy_annual_premium  umbrella_limit  insured_sex  \\\n",
            "0               0.616705       -0.479476            1   \n",
            "1              -0.242521        1.697980            1   \n",
            "2               0.642233        1.697980            0   \n",
            "3               0.652886        2.133471            0   \n",
            "4               1.341980        2.133471            1   \n",
            "\n",
            "   insured_education_level  insured_occupation  ...  property_claim  \\\n",
            "0                        4                   2  ...        1.165505   \n",
            "1                        4                   6  ...       -1.372696   \n",
            "2                        6                  11  ...       -0.736072   \n",
            "3                        6                   1  ...       -0.219722   \n",
            "4                        0                  11  ...       -1.399654   \n",
            "\n",
            "   vehicle_claim  auto_make  auto_model  auto_year  fraud_reported  \\\n",
            "0       0.749653         10           1       2004               Y   \n",
            "1      -1.823346          8          12       2007               Y   \n",
            "2      -0.785565          4          30       2007               N   \n",
            "3       0.677607          3          34       2014               Y   \n",
            "4      -1.768252          0          31       2009               N   \n",
            "\n",
            "   incident_year  incident_month  incident_day  incident_day_of_week  \n",
            "0           2015               1            25                     6  \n",
            "1           2015               1            21                     2  \n",
            "2           2015               2            22                     6  \n",
            "3           2015               1            10                     5  \n",
            "4           2015               2            17                     1  \n",
            "\n",
            "[5 rows x 38 columns]\n"
          ]
        }
      ]
    },
    {
      "cell_type": "code",
      "source": [
        "# Separate features (X) and target (y)\n",
        "X = df_copy.drop(columns=['fraud_reported'])  # Assuming 'fraud_reported' is the target column\n",
        "y = df_copy['fraud_reported']\n",
        "\n",
        "# Split into training and testing sets (80% train, 20% test)\n",
        "X_train, X_test, y_train, y_test = train_test_split(X, y, test_size=0.2, random_state=42)\n",
        "\n",
        "# Verify the shapes of the resulting sets\n",
        "print(f\"Training set shape: {X_train.shape}, {y_train.shape}\")\n",
        "print(f\"Testing set shape: {X_test.shape}, {y_test.shape}\")\n",
        "\n",
        "\n",
        "\n",
        "# Convert target variable y_train from strings to integers\n",
        "y_train = np.where(y_train == 'Y', 1, 0)\n",
        "\n",
        "# Repeat the same for y_test to ensure consistency\n",
        "y_test = np.where(y_test == 'Y', 1, 0)\n",
        "\n",
        "# Verify the unique values after conversion\n",
        "print(\"Unique values in y_train after conversion:\", np.unique(y_train))\n",
        "print(\"Unique values in y_test after conversion:\", np.unique(y_test))\n"
      ],
      "metadata": {
        "colab": {
          "base_uri": "https://localhost:8080/"
        },
        "id": "FJn376ye17T5",
        "outputId": "04f0698b-4a3a-457f-fcfe-2df64f475d88"
      },
      "execution_count": 69,
      "outputs": [
        {
          "output_type": "stream",
          "name": "stdout",
          "text": [
            "Training set shape: (800, 37), (800,)\n",
            "Testing set shape: (200, 37), (200,)\n",
            "Unique values in y_train after conversion: [0 1]\n",
            "Unique values in y_test after conversion: [0 1]\n"
          ]
        }
      ]
    },
    {
      "cell_type": "code",
      "source": [
        "# Initialize the ANN model\n",
        "model = Sequential()\n",
        "\n",
        "# Input layer and first hidden layer\n",
        "model.add(Dense(64, input_dim=X_train.shape[1], activation='relu'))\n",
        "model.add(Dropout(0.3))  # Dropout to prevent overfitting\n",
        "\n",
        "# Second hidden layer\n",
        "model.add(Dense(32, activation='relu'))\n",
        "\n",
        "# Output layer\n",
        "model.add(Dense(1, activation='sigmoid'))\n",
        "\n",
        "# Compile the model\n",
        "model.compile(optimizer='adam', loss='binary_crossentropy', metrics=['accuracy'])\n",
        "\n",
        "# Summary of the model\n",
        "model.summary()\n"
      ],
      "metadata": {
        "colab": {
          "base_uri": "https://localhost:8080/",
          "height": 327
        },
        "id": "MvSDOxlbLFQG",
        "outputId": "2b5e75ba-369b-420a-d239-2f6676feed39"
      },
      "execution_count": 70,
      "outputs": [
        {
          "output_type": "stream",
          "name": "stderr",
          "text": [
            "/usr/local/lib/python3.10/dist-packages/keras/src/layers/core/dense.py:87: UserWarning: Do not pass an `input_shape`/`input_dim` argument to a layer. When using Sequential models, prefer using an `Input(shape)` object as the first layer in the model instead.\n",
            "  super().__init__(activity_regularizer=activity_regularizer, **kwargs)\n"
          ]
        },
        {
          "output_type": "display_data",
          "data": {
            "text/plain": [
              "\u001b[1mModel: \"sequential_6\"\u001b[0m\n"
            ],
            "text/html": [
              "<pre style=\"white-space:pre;overflow-x:auto;line-height:normal;font-family:Menlo,'DejaVu Sans Mono',consolas,'Courier New',monospace\"><span style=\"font-weight: bold\">Model: \"sequential_6\"</span>\n",
              "</pre>\n"
            ]
          },
          "metadata": {}
        },
        {
          "output_type": "display_data",
          "data": {
            "text/plain": [
              "┏━━━━━━━━━━━━━━━━━━━━━━━━━━━━━━━━━━━━━━┳━━━━━━━━━━━━━━━━━━━━━━━━━━━━━┳━━━━━━━━━━━━━━━━━┓\n",
              "┃\u001b[1m \u001b[0m\u001b[1mLayer (type)                        \u001b[0m\u001b[1m \u001b[0m┃\u001b[1m \u001b[0m\u001b[1mOutput Shape               \u001b[0m\u001b[1m \u001b[0m┃\u001b[1m \u001b[0m\u001b[1m        Param #\u001b[0m\u001b[1m \u001b[0m┃\n",
              "┡━━━━━━━━━━━━━━━━━━━━━━━━━━━━━━━━━━━━━━╇━━━━━━━━━━━━━━━━━━━━━━━━━━━━━╇━━━━━━━━━━━━━━━━━┩\n",
              "│ dense_18 (\u001b[38;5;33mDense\u001b[0m)                     │ (\u001b[38;5;45mNone\u001b[0m, \u001b[38;5;34m64\u001b[0m)                  │           \u001b[38;5;34m2,432\u001b[0m │\n",
              "├──────────────────────────────────────┼─────────────────────────────┼─────────────────┤\n",
              "│ dropout_6 (\u001b[38;5;33mDropout\u001b[0m)                  │ (\u001b[38;5;45mNone\u001b[0m, \u001b[38;5;34m64\u001b[0m)                  │               \u001b[38;5;34m0\u001b[0m │\n",
              "├──────────────────────────────────────┼─────────────────────────────┼─────────────────┤\n",
              "│ dense_19 (\u001b[38;5;33mDense\u001b[0m)                     │ (\u001b[38;5;45mNone\u001b[0m, \u001b[38;5;34m32\u001b[0m)                  │           \u001b[38;5;34m2,080\u001b[0m │\n",
              "├──────────────────────────────────────┼─────────────────────────────┼─────────────────┤\n",
              "│ dense_20 (\u001b[38;5;33mDense\u001b[0m)                     │ (\u001b[38;5;45mNone\u001b[0m, \u001b[38;5;34m1\u001b[0m)                   │              \u001b[38;5;34m33\u001b[0m │\n",
              "└──────────────────────────────────────┴─────────────────────────────┴─────────────────┘\n"
            ],
            "text/html": [
              "<pre style=\"white-space:pre;overflow-x:auto;line-height:normal;font-family:Menlo,'DejaVu Sans Mono',consolas,'Courier New',monospace\">┏━━━━━━━━━━━━━━━━━━━━━━━━━━━━━━━━━━━━━━┳━━━━━━━━━━━━━━━━━━━━━━━━━━━━━┳━━━━━━━━━━━━━━━━━┓\n",
              "┃<span style=\"font-weight: bold\"> Layer (type)                         </span>┃<span style=\"font-weight: bold\"> Output Shape                </span>┃<span style=\"font-weight: bold\">         Param # </span>┃\n",
              "┡━━━━━━━━━━━━━━━━━━━━━━━━━━━━━━━━━━━━━━╇━━━━━━━━━━━━━━━━━━━━━━━━━━━━━╇━━━━━━━━━━━━━━━━━┩\n",
              "│ dense_18 (<span style=\"color: #0087ff; text-decoration-color: #0087ff\">Dense</span>)                     │ (<span style=\"color: #00d7ff; text-decoration-color: #00d7ff\">None</span>, <span style=\"color: #00af00; text-decoration-color: #00af00\">64</span>)                  │           <span style=\"color: #00af00; text-decoration-color: #00af00\">2,432</span> │\n",
              "├──────────────────────────────────────┼─────────────────────────────┼─────────────────┤\n",
              "│ dropout_6 (<span style=\"color: #0087ff; text-decoration-color: #0087ff\">Dropout</span>)                  │ (<span style=\"color: #00d7ff; text-decoration-color: #00d7ff\">None</span>, <span style=\"color: #00af00; text-decoration-color: #00af00\">64</span>)                  │               <span style=\"color: #00af00; text-decoration-color: #00af00\">0</span> │\n",
              "├──────────────────────────────────────┼─────────────────────────────┼─────────────────┤\n",
              "│ dense_19 (<span style=\"color: #0087ff; text-decoration-color: #0087ff\">Dense</span>)                     │ (<span style=\"color: #00d7ff; text-decoration-color: #00d7ff\">None</span>, <span style=\"color: #00af00; text-decoration-color: #00af00\">32</span>)                  │           <span style=\"color: #00af00; text-decoration-color: #00af00\">2,080</span> │\n",
              "├──────────────────────────────────────┼─────────────────────────────┼─────────────────┤\n",
              "│ dense_20 (<span style=\"color: #0087ff; text-decoration-color: #0087ff\">Dense</span>)                     │ (<span style=\"color: #00d7ff; text-decoration-color: #00d7ff\">None</span>, <span style=\"color: #00af00; text-decoration-color: #00af00\">1</span>)                   │              <span style=\"color: #00af00; text-decoration-color: #00af00\">33</span> │\n",
              "└──────────────────────────────────────┴─────────────────────────────┴─────────────────┘\n",
              "</pre>\n"
            ]
          },
          "metadata": {}
        },
        {
          "output_type": "display_data",
          "data": {
            "text/plain": [
              "\u001b[1m Total params: \u001b[0m\u001b[38;5;34m4,545\u001b[0m (17.75 KB)\n"
            ],
            "text/html": [
              "<pre style=\"white-space:pre;overflow-x:auto;line-height:normal;font-family:Menlo,'DejaVu Sans Mono',consolas,'Courier New',monospace\"><span style=\"font-weight: bold\"> Total params: </span><span style=\"color: #00af00; text-decoration-color: #00af00\">4,545</span> (17.75 KB)\n",
              "</pre>\n"
            ]
          },
          "metadata": {}
        },
        {
          "output_type": "display_data",
          "data": {
            "text/plain": [
              "\u001b[1m Trainable params: \u001b[0m\u001b[38;5;34m4,545\u001b[0m (17.75 KB)\n"
            ],
            "text/html": [
              "<pre style=\"white-space:pre;overflow-x:auto;line-height:normal;font-family:Menlo,'DejaVu Sans Mono',consolas,'Courier New',monospace\"><span style=\"font-weight: bold\"> Trainable params: </span><span style=\"color: #00af00; text-decoration-color: #00af00\">4,545</span> (17.75 KB)\n",
              "</pre>\n"
            ]
          },
          "metadata": {}
        },
        {
          "output_type": "display_data",
          "data": {
            "text/plain": [
              "\u001b[1m Non-trainable params: \u001b[0m\u001b[38;5;34m0\u001b[0m (0.00 B)\n"
            ],
            "text/html": [
              "<pre style=\"white-space:pre;overflow-x:auto;line-height:normal;font-family:Menlo,'DejaVu Sans Mono',consolas,'Courier New',monospace\"><span style=\"font-weight: bold\"> Non-trainable params: </span><span style=\"color: #00af00; text-decoration-color: #00af00\">0</span> (0.00 B)\n",
              "</pre>\n"
            ]
          },
          "metadata": {}
        }
      ]
    },
    {
      "cell_type": "code",
      "source": [
        "# Check unique values in the target variable\n",
        "print(\"Unique values in y_train:\", np.unique(y_train))\n"
      ],
      "metadata": {
        "colab": {
          "base_uri": "https://localhost:8080/"
        },
        "id": "Lx2RNxLnLIUk",
        "outputId": "22be1829-27ef-4675-f4d6-5343f04157dd"
      },
      "execution_count": 72,
      "outputs": [
        {
          "output_type": "stream",
          "name": "stdout",
          "text": [
            "Unique values in y_train: [0 1]\n"
          ]
        }
      ]
    },
    {
      "cell_type": "code",
      "source": [
        "# Train the model for 30 epochs with batch size 32\n",
        "history = model.fit(X_train, y_train, validation_split=0.2, epochs=30, batch_size=32)\n"
      ],
      "metadata": {
        "id": "UN_aLVVtqq1n",
        "outputId": "e56f4075-335d-489a-994c-62ddfb78ca5a",
        "colab": {
          "base_uri": "https://localhost:8080/"
        }
      },
      "execution_count": 73,
      "outputs": [
        {
          "output_type": "stream",
          "name": "stdout",
          "text": [
            "Epoch 1/30\n",
            "\u001b[1m20/20\u001b[0m \u001b[32m━━━━━━━━━━━━━━━━━━━━\u001b[0m\u001b[37m\u001b[0m \u001b[1m2s\u001b[0m 12ms/step - accuracy: 0.2632 - loss: 424.1401 - val_accuracy: 0.7500 - val_loss: 56.9055\n",
            "Epoch 2/30\n",
            "\u001b[1m20/20\u001b[0m \u001b[32m━━━━━━━━━━━━━━━━━━━━\u001b[0m\u001b[37m\u001b[0m \u001b[1m0s\u001b[0m 4ms/step - accuracy: 0.7242 - loss: 76.0647 - val_accuracy: 0.7500 - val_loss: 42.3151\n",
            "Epoch 3/30\n",
            "\u001b[1m20/20\u001b[0m \u001b[32m━━━━━━━━━━━━━━━━━━━━\u001b[0m\u001b[37m\u001b[0m \u001b[1m0s\u001b[0m 3ms/step - accuracy: 0.6547 - loss: 43.9840 - val_accuracy: 0.7500 - val_loss: 14.6895\n",
            "Epoch 4/30\n",
            "\u001b[1m20/20\u001b[0m \u001b[32m━━━━━━━━━━━━━━━━━━━━\u001b[0m\u001b[37m\u001b[0m \u001b[1m0s\u001b[0m 4ms/step - accuracy: 0.6021 - loss: 42.6629 - val_accuracy: 0.7500 - val_loss: 25.1294\n",
            "Epoch 5/30\n",
            "\u001b[1m20/20\u001b[0m \u001b[32m━━━━━━━━━━━━━━━━━━━━\u001b[0m\u001b[37m\u001b[0m \u001b[1m0s\u001b[0m 4ms/step - accuracy: 0.6579 - loss: 35.9673 - val_accuracy: 0.7500 - val_loss: 18.8010\n",
            "Epoch 6/30\n",
            "\u001b[1m20/20\u001b[0m \u001b[32m━━━━━━━━━━━━━━━━━━━━\u001b[0m\u001b[37m\u001b[0m \u001b[1m0s\u001b[0m 3ms/step - accuracy: 0.6199 - loss: 33.6909 - val_accuracy: 0.7500 - val_loss: 27.4965\n",
            "Epoch 7/30\n",
            "\u001b[1m20/20\u001b[0m \u001b[32m━━━━━━━━━━━━━━━━━━━━\u001b[0m\u001b[37m\u001b[0m \u001b[1m0s\u001b[0m 4ms/step - accuracy: 0.6218 - loss: 27.2727 - val_accuracy: 0.7500 - val_loss: 27.6801\n",
            "Epoch 8/30\n",
            "\u001b[1m20/20\u001b[0m \u001b[32m━━━━━━━━━━━━━━━━━━━━\u001b[0m\u001b[37m\u001b[0m \u001b[1m0s\u001b[0m 3ms/step - accuracy: 0.6286 - loss: 27.7870 - val_accuracy: 0.7500 - val_loss: 19.7605\n",
            "Epoch 9/30\n",
            "\u001b[1m20/20\u001b[0m \u001b[32m━━━━━━━━━━━━━━━━━━━━\u001b[0m\u001b[37m\u001b[0m \u001b[1m0s\u001b[0m 3ms/step - accuracy: 0.6588 - loss: 20.0767 - val_accuracy: 0.7500 - val_loss: 18.2847\n",
            "Epoch 10/30\n",
            "\u001b[1m20/20\u001b[0m \u001b[32m━━━━━━━━━━━━━━━━━━━━\u001b[0m\u001b[37m\u001b[0m \u001b[1m0s\u001b[0m 3ms/step - accuracy: 0.6290 - loss: 20.4275 - val_accuracy: 0.7500 - val_loss: 18.0174\n",
            "Epoch 11/30\n",
            "\u001b[1m20/20\u001b[0m \u001b[32m━━━━━━━━━━━━━━━━━━━━\u001b[0m\u001b[37m\u001b[0m \u001b[1m0s\u001b[0m 4ms/step - accuracy: 0.6097 - loss: 16.5059 - val_accuracy: 0.7500 - val_loss: 16.6496\n",
            "Epoch 12/30\n",
            "\u001b[1m20/20\u001b[0m \u001b[32m━━━━━━━━━━━━━━━━━━━━\u001b[0m\u001b[37m\u001b[0m \u001b[1m0s\u001b[0m 3ms/step - accuracy: 0.6479 - loss: 14.4281 - val_accuracy: 0.7500 - val_loss: 11.5708\n",
            "Epoch 13/30\n",
            "\u001b[1m20/20\u001b[0m \u001b[32m━━━━━━━━━━━━━━━━━━━━\u001b[0m\u001b[37m\u001b[0m \u001b[1m0s\u001b[0m 4ms/step - accuracy: 0.6331 - loss: 15.2471 - val_accuracy: 0.7500 - val_loss: 16.1699\n",
            "Epoch 14/30\n",
            "\u001b[1m20/20\u001b[0m \u001b[32m━━━━━━━━━━━━━━━━━━━━\u001b[0m\u001b[37m\u001b[0m \u001b[1m0s\u001b[0m 4ms/step - accuracy: 0.6033 - loss: 15.5940 - val_accuracy: 0.7500 - val_loss: 16.7112\n",
            "Epoch 15/30\n",
            "\u001b[1m20/20\u001b[0m \u001b[32m━━━━━━━━━━━━━━━━━━━━\u001b[0m\u001b[37m\u001b[0m \u001b[1m0s\u001b[0m 4ms/step - accuracy: 0.6588 - loss: 11.0911 - val_accuracy: 0.7500 - val_loss: 10.7807\n",
            "Epoch 16/30\n",
            "\u001b[1m20/20\u001b[0m \u001b[32m━━━━━━━━━━━━━━━━━━━━\u001b[0m\u001b[37m\u001b[0m \u001b[1m0s\u001b[0m 4ms/step - accuracy: 0.6142 - loss: 13.7702 - val_accuracy: 0.7500 - val_loss: 9.9845\n",
            "Epoch 17/30\n",
            "\u001b[1m20/20\u001b[0m \u001b[32m━━━━━━━━━━━━━━━━━━━━\u001b[0m\u001b[37m\u001b[0m \u001b[1m0s\u001b[0m 3ms/step - accuracy: 0.6284 - loss: 11.4839 - val_accuracy: 0.7500 - val_loss: 6.3365\n",
            "Epoch 18/30\n",
            "\u001b[1m20/20\u001b[0m \u001b[32m━━━━━━━━━━━━━━━━━━━━\u001b[0m\u001b[37m\u001b[0m \u001b[1m0s\u001b[0m 3ms/step - accuracy: 0.6091 - loss: 10.9465 - val_accuracy: 0.7500 - val_loss: 7.0537\n",
            "Epoch 19/30\n",
            "\u001b[1m20/20\u001b[0m \u001b[32m━━━━━━━━━━━━━━━━━━━━\u001b[0m\u001b[37m\u001b[0m \u001b[1m0s\u001b[0m 3ms/step - accuracy: 0.5873 - loss: 11.2530 - val_accuracy: 0.7500 - val_loss: 7.1820\n",
            "Epoch 20/30\n",
            "\u001b[1m20/20\u001b[0m \u001b[32m━━━━━━━━━━━━━━━━━━━━\u001b[0m\u001b[37m\u001b[0m \u001b[1m0s\u001b[0m 4ms/step - accuracy: 0.5985 - loss: 9.9511 - val_accuracy: 0.7500 - val_loss: 7.6415\n",
            "Epoch 21/30\n",
            "\u001b[1m20/20\u001b[0m \u001b[32m━━━━━━━━━━━━━━━━━━━━\u001b[0m\u001b[37m\u001b[0m \u001b[1m0s\u001b[0m 4ms/step - accuracy: 0.6818 - loss: 7.7868 - val_accuracy: 0.7500 - val_loss: 6.6667\n",
            "Epoch 22/30\n",
            "\u001b[1m20/20\u001b[0m \u001b[32m━━━━━━━━━━━━━━━━━━━━\u001b[0m\u001b[37m\u001b[0m \u001b[1m0s\u001b[0m 5ms/step - accuracy: 0.6270 - loss: 8.5595 - val_accuracy: 0.7500 - val_loss: 6.4079\n",
            "Epoch 23/30\n",
            "\u001b[1m20/20\u001b[0m \u001b[32m━━━━━━━━━━━━━━━━━━━━\u001b[0m\u001b[37m\u001b[0m \u001b[1m0s\u001b[0m 3ms/step - accuracy: 0.6322 - loss: 7.5668 - val_accuracy: 0.7500 - val_loss: 3.9669\n",
            "Epoch 24/30\n",
            "\u001b[1m20/20\u001b[0m \u001b[32m━━━━━━━━━━━━━━━━━━━━\u001b[0m\u001b[37m\u001b[0m \u001b[1m0s\u001b[0m 4ms/step - accuracy: 0.6272 - loss: 6.2458 - val_accuracy: 0.7500 - val_loss: 3.5156\n",
            "Epoch 25/30\n",
            "\u001b[1m20/20\u001b[0m \u001b[32m━━━━━━━━━━━━━━━━━━━━\u001b[0m\u001b[37m\u001b[0m \u001b[1m0s\u001b[0m 4ms/step - accuracy: 0.6466 - loss: 5.2302 - val_accuracy: 0.7500 - val_loss: 4.0649\n",
            "Epoch 26/30\n",
            "\u001b[1m20/20\u001b[0m \u001b[32m━━━━━━━━━━━━━━━━━━━━\u001b[0m\u001b[37m\u001b[0m \u001b[1m0s\u001b[0m 3ms/step - accuracy: 0.6831 - loss: 5.2020 - val_accuracy: 0.7500 - val_loss: 2.3548\n",
            "Epoch 27/30\n",
            "\u001b[1m20/20\u001b[0m \u001b[32m━━━━━━━━━━━━━━━━━━━━\u001b[0m\u001b[37m\u001b[0m \u001b[1m0s\u001b[0m 4ms/step - accuracy: 0.6371 - loss: 5.0248 - val_accuracy: 0.7500 - val_loss: 3.5262\n",
            "Epoch 28/30\n",
            "\u001b[1m20/20\u001b[0m \u001b[32m━━━━━━━━━━━━━━━━━━━━\u001b[0m\u001b[37m\u001b[0m \u001b[1m0s\u001b[0m 4ms/step - accuracy: 0.6604 - loss: 4.5985 - val_accuracy: 0.4750 - val_loss: 0.8230\n",
            "Epoch 29/30\n",
            "\u001b[1m20/20\u001b[0m \u001b[32m━━━━━━━━━━━━━━━━━━━━\u001b[0m\u001b[37m\u001b[0m \u001b[1m0s\u001b[0m 4ms/step - accuracy: 0.6158 - loss: 4.5281 - val_accuracy: 0.7500 - val_loss: 2.3402\n",
            "Epoch 30/30\n",
            "\u001b[1m20/20\u001b[0m \u001b[32m━━━━━━━━━━━━━━━━━━━━\u001b[0m\u001b[37m\u001b[0m \u001b[1m0s\u001b[0m 5ms/step - accuracy: 0.6587 - loss: 3.4735 - val_accuracy: 0.7500 - val_loss: 1.1212\n"
          ]
        }
      ]
    },
    {
      "cell_type": "code",
      "source": [
        "# Evaluate the model on the test set\n",
        "test_loss, test_acc = model.evaluate(X_test, y_test)\n",
        "print(f\"Test Accuracy: {test_acc:.2f}\")\n",
        "\n",
        "# Make predictions on the test set\n",
        "y_pred = (model.predict(X_test) > 0.5).astype(\"int32\")\n",
        "\n",
        "# Import necessary metrics for evaluation\n",
        "from sklearn.metrics import confusion_matrix, classification_report\n",
        "\n",
        "# Print confusion matrix\n",
        "print(confusion_matrix(y_test, y_pred))\n",
        "\n",
        "# Print classification report\n",
        "print(classification_report(y_test, y_pred))\n"
      ],
      "metadata": {
        "id": "s5I8bivCsU3b",
        "outputId": "4b2b1566-8a7b-4459-a661-f4fe7fb2994f",
        "colab": {
          "base_uri": "https://localhost:8080/"
        }
      },
      "execution_count": 74,
      "outputs": [
        {
          "output_type": "stream",
          "name": "stdout",
          "text": [
            "\u001b[1m7/7\u001b[0m \u001b[32m━━━━━━━━━━━━━━━━━━━━\u001b[0m\u001b[37m\u001b[0m \u001b[1m0s\u001b[0m 6ms/step - accuracy: 0.7495 - loss: 1.0574  \n",
            "Test Accuracy: 0.73\n",
            "\u001b[1m7/7\u001b[0m \u001b[32m━━━━━━━━━━━━━━━━━━━━\u001b[0m\u001b[37m\u001b[0m \u001b[1m0s\u001b[0m 19ms/step\n",
            "[[145   0]\n",
            " [ 55   0]]\n",
            "              precision    recall  f1-score   support\n",
            "\n",
            "           0       0.72      1.00      0.84       145\n",
            "           1       0.00      0.00      0.00        55\n",
            "\n",
            "    accuracy                           0.72       200\n",
            "   macro avg       0.36      0.50      0.42       200\n",
            "weighted avg       0.53      0.72      0.61       200\n",
            "\n"
          ]
        },
        {
          "output_type": "stream",
          "name": "stderr",
          "text": [
            "/usr/local/lib/python3.10/dist-packages/sklearn/metrics/_classification.py:1531: UndefinedMetricWarning: Precision is ill-defined and being set to 0.0 in labels with no predicted samples. Use `zero_division` parameter to control this behavior.\n",
            "  _warn_prf(average, modifier, f\"{metric.capitalize()} is\", len(result))\n",
            "/usr/local/lib/python3.10/dist-packages/sklearn/metrics/_classification.py:1531: UndefinedMetricWarning: Precision is ill-defined and being set to 0.0 in labels with no predicted samples. Use `zero_division` parameter to control this behavior.\n",
            "  _warn_prf(average, modifier, f\"{metric.capitalize()} is\", len(result))\n",
            "/usr/local/lib/python3.10/dist-packages/sklearn/metrics/_classification.py:1531: UndefinedMetricWarning: Precision is ill-defined and being set to 0.0 in labels with no predicted samples. Use `zero_division` parameter to control this behavior.\n",
            "  _warn_prf(average, modifier, f\"{metric.capitalize()} is\", len(result))\n"
          ]
        }
      ]
    },
    {
      "cell_type": "code",
      "source": [
        "# Plot accuracy over epochs\n",
        "plt.figure(figsize=(12, 6))\n",
        "\n",
        "# Plot Accuracy\n",
        "plt.subplot(1, 2, 1)\n",
        "plt.plot(history.history['accuracy'], label='Train Accuracy')\n",
        "plt.plot(history.history['val_accuracy'], label='Validation Accuracy')\n",
        "plt.title('Model Accuracy')\n",
        "plt.xlabel('Epochs')\n",
        "plt.ylabel('Accuracy')\n",
        "plt.legend()\n",
        "\n",
        "# Plot Loss\n",
        "plt.subplot(1, 2, 2)\n",
        "plt.plot(history.history['loss'], label='Train Loss')\n",
        "plt.plot(history.history['val_loss'], label='Validation Loss')\n",
        "plt.title('Model Loss')\n",
        "plt.xlabel('Epochs')\n",
        "plt.ylabel('Loss')\n",
        "plt.legend()\n",
        "\n",
        "plt.show()\n"
      ],
      "metadata": {
        "id": "ZLjgEm9XsXxt",
        "outputId": "3fd11689-fcde-4bdd-a68d-226a06b81068",
        "colab": {
          "base_uri": "https://localhost:8080/",
          "height": 564
        }
      },
      "execution_count": 75,
      "outputs": [
        {
          "output_type": "display_data",
          "data": {
            "text/plain": [
              "<Figure size 1200x600 with 2 Axes>"
            ],
            "image/png": "[encoded data removed]"
          },
          "metadata": {}
        }
      ]
    }
  ]
}